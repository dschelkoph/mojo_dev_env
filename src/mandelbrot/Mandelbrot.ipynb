{
 "cells": [
  {
   "cell_type": "markdown",
   "metadata": {},
   "source": [
    "---\n",
    "title: Mandelbrot in Mojo with Python plots\n",
    "description: Learn how to write high-performance Mojo code and import Python packages.\n",
    "website:\n",
    "  open-graph:\n",
    "    image: /static/images/mojo-social-card.png\n",
    "  twitter-card:\n",
    "    image: /static/images/mojo-social-card.png\n",
    "---"
   ]
  },
  {
   "cell_type": "markdown",
   "metadata": {},
   "source": [
    "*Copyright 2023 Modular, Inc: Licensed under the Apache License v2.0 with LLVM Exceptions.*"
   ]
  },
  {
   "cell_type": "markdown",
   "metadata": {},
   "source": [
    "# Mandelbrot in Mojo with Python plots\n",
    "\n",
    "Not only is Mojo great for writing high-performance code, but it also allows us to leverage the huge Python ecosystem of libraries and tools. With seamless Python interoperability, Mojo can use Python for what it's good at, especially GUIs, without sacrificing performance in critical code. Let's take the classic Mandelbrot set algorithm and implement it in Mojo.\n",
    "\n",
    "This tutorial shows two aspects of Mojo. First, it shows that Mojo can be used to develop fast programs for irregular applications. It also shows how we can leverage Python for visualizing the results."
   ]
  },
  {
   "cell_type": "code",
   "execution_count": 7,
   "metadata": {},
   "outputs": [],
   "source": [
    "#|code-fold: true\n",
    "# from benchmark import Benchmark\n",
    "from complex import ComplexSIMD, ComplexFloat64\n",
    "from math import iota\n",
    "from python import Python\n",
    "from runtime.llcl import num_cores, Runtime\n",
    "from algorithm import parallelize, vectorize\n",
    "from tensor import Tensor\n",
    "from utils.index import Index\n",
    "\n",
    "alias float_type = DType.float64\n",
    "alias simd_width = simdwidthof[float_type]()"
   ]
  },
  {
   "cell_type": "markdown",
   "metadata": {},
   "source": [
    "First set some parameters, you can try changing these to see different results:"
   ]
  },
  {
   "cell_type": "code",
   "execution_count": 2,
   "metadata": {},
   "outputs": [],
   "source": [
    "alias width = 960\n",
    "alias height = 960\n",
    "alias MAX_ITERS = 200\n",
    "\n",
    "alias min_x = -2.0\n",
    "alias max_x = 0.6\n",
    "alias min_y = -1.5\n",
    "alias max_y = 1.5"
   ]
  },
  {
   "cell_type": "markdown",
   "metadata": {},
   "source": [
    "The core [Mandelbrot](https://en.wikipedia.org/wiki/Mandelbrot_set) algorithm involves computing an iterative complex function for each pixel until it \"escapes\" the complex circle of radius 2, counting the number of iterations to escape:\n",
    "\n",
    "$$z_{i+1} = z_i^2 + c$$"
   ]
  },
  {
   "cell_type": "code",
   "execution_count": 11,
   "metadata": {},
   "outputs": [],
   "source": [
    "# Compute the number of steps to escape.\n",
    "def mandelbrot_kernel(c: ComplexFloat64) -> Int:\n",
    "    z = c\n",
    "    for i in range(MAX_ITERS):\n",
    "        z = z * z + c\n",
    "        if z.squared_norm() > 4:\n",
    "            return i\n",
    "    return MAX_ITERS\n",
    "\n",
    "\n",
    "def compute_mandelbrot() -> Tensor[float_type]:\n",
    "    # create a matrix. Each element of the matrix corresponds to a pixel\n",
    "    t = Tensor[float_type](height, width)\n",
    "\n",
    "    dx = (max_x - min_x) / width\n",
    "    dy = (max_y - min_y) / height\n",
    "\n",
    "    y = min_y\n",
    "    for row in range(height):\n",
    "        x = min_x\n",
    "        for col in range(width):\n",
    "            t[Index(row, col)] = mandelbrot_kernel(ComplexFloat64(x, y))\n",
    "            x += dx\n",
    "        y += dy\n",
    "    return t"
   ]
  },
  {
   "cell_type": "markdown",
   "metadata": {},
   "source": [
    "Plotting the number of iterations to escape with some color gives us the canonical Mandelbrot set plot. To render it we can directly leverage Python's `matplotlib` right from Mojo!"
   ]
  },
  {
   "cell_type": "code",
   "execution_count": 12,
   "metadata": {},
   "outputs": [],
   "source": [
    "def show_plot(tensor: Tensor[float_type]):\n",
    "    alias scale = 10\n",
    "    alias dpi = 64\n",
    "\n",
    "    np = Python.import_module(\"numpy\")\n",
    "    plt = Python.import_module(\"matplotlib.pyplot\")\n",
    "    colors = Python.import_module(\"matplotlib.colors\")\n",
    "\n",
    "    numpy_array = np.zeros((height, width), np.float64)\n",
    "\n",
    "    for row in range(height):\n",
    "        for col in range(width):\n",
    "            numpy_array.itemset((col, row), tensor[col, row])\n",
    "\n",
    "    fig = plt.figure(1, [scale, scale * height // width], dpi)\n",
    "    ax = fig.add_axes([0.0, 0.0, 1.0, 1.0], False, 1)\n",
    "    light = colors.LightSource(315, 10, 0, 1, 1, 0)\n",
    "\n",
    "    image = light.shade(numpy_array, plt.cm.hot, colors.PowerNorm(0.3), \"hsv\", 0, 0, 1.5)\n",
    "    plt.imshow(image)\n",
    "    plt.axis(\"off\")\n",
    "    plt.show()\n",
    "\n",
    "show_plot(compute_mandelbrot())"
   ]
  },
  {
   "cell_type": "markdown",
   "metadata": {},
   "source": [
    "## Vectorizing Mandelbrot\n",
    "We showed a naive implementation of the Mandelbrot algorithm, but there are two things we can do to speed it up. We can early-stop the loop iteration when a pixel is known to have escaped, and we can leverage Mojo's access to hardware by vectorizing the loop, computing multiple pixels simultaneously. To do that we will use the `vectorize` higher order generator.\n",
    "\n",
    "We start by defining our main iteration loop in a vectorized fashion"
   ]
  },
  {
   "cell_type": "code",
   "execution_count": 13,
   "metadata": {},
   "outputs": [],
   "source": [
    "fn mandelbrot_kernel_SIMD[\n",
    "    simd_width: Int\n",
    "](c: ComplexSIMD[float_type, simd_width]) -> SIMD[float_type, simd_width]:\n",
    "    \"\"\"A vectorized implementation of the inner mandelbrot computation.\"\"\"\n",
    "    var z = ComplexSIMD[float_type, simd_width](0, 0)\n",
    "    var iters = SIMD[float_type, simd_width](0)\n",
    "\n",
    "    var in_set_mask: SIMD[DType.bool, simd_width] = True\n",
    "    for i in range(MAX_ITERS):\n",
    "        if not in_set_mask.reduce_or():\n",
    "            break\n",
    "        in_set_mask = z.squared_norm() <= 4\n",
    "        iters = in_set_mask.select(iters + 1, iters)\n",
    "        z = z.squared_add(c)\n",
    "\n",
    "    return iters"
   ]
  },
  {
   "cell_type": "markdown",
   "metadata": {},
   "source": [
    "The above function is parameterized on the `simd_width` and processes simd_width pixels. It only escapes once all pixels within the vector lane are done. We can use the same iteration loop as above, but this time we vectorize within each row instead. We use the `vectorize` generator to make this a simple function call."
   ]
  },
  {
   "cell_type": "code",
   "execution_count": 14,
   "metadata": {},
   "outputs": [
    {
     "name": "stderr",
     "output_type": "stream",
     "text": [
      "error: \u001b[0;1;31m\u001b[1mExpression [14]:26:22: \u001b[0m\u001b[1muse of unknown declaration 'Benchmark', 'fn' declarations require explicit variable declarations\n",
      "\u001b[0m    let vectorized = Benchmark().run[bench[simd_width]]() / 1e6\n",
      "\u001b[0;1;32m                     ^~~~~~~~~\n",
      "\u001b[0m\u001b[0m\n",
      "error: \u001b[0;1;31m\u001b[1mExpression [14]:32:40: \u001b[0m\u001b[1m'Error' value has no attribute 'value'\n",
      "\u001b[0m        print(\"failed to show plot:\", e.value)\n",
      "\u001b[0;1;32m                                      ~^~~~~~\n",
      "\u001b[0m\u001b[0m\n",
      "expression failed to parse (no further compiler diagnostics)"
     ]
    }
   ],
   "source": [
    "fn vectorized():\n",
    "    let t = Tensor[float_type](height, width)\n",
    "\n",
    "    @parameter\n",
    "    fn worker(row: Int):\n",
    "        let scale_x = (max_x - min_x) / width\n",
    "        let scale_y = (max_y - min_y) / height\n",
    "\n",
    "        @parameter\n",
    "        fn compute_vector[simd_width: Int](col: Int):\n",
    "            \"\"\"Each time we oeprate on a `simd_width` vector of pixels.\"\"\"\n",
    "            let cx = min_x + (col + iota[float_type, simd_width]()) * scale_x\n",
    "            let cy = min_y + row * scale_y\n",
    "            let c = ComplexSIMD[float_type, simd_width](cx, cy)\n",
    "            t.data().simd_store[simd_width](row * width + col, mandelbrot_kernel_SIMD[simd_width](c))\n",
    "\n",
    "        # Vectorize the call to compute_vector where call gets a chunk of pixels.\n",
    "        vectorize[simd_width, compute_vector](width)\n",
    "\n",
    "\n",
    "    @parameter\n",
    "    fn bench[simd_width: Int]():\n",
    "        for row in range(height):\n",
    "            worker(row)\n",
    "\n",
    "    let vectorized = Benchmark().run[bench[simd_width]]() / 1e6\n",
    "    print(\"Vectorized\", \":\", vectorized, \"ms\")\n",
    "\n",
    "    try:\n",
    "        _ = show_plot(t)\n",
    "    except e:\n",
    "        print(\"failed to show plot:\", e.value)\n",
    "\n",
    "vectorized()"
   ]
  },
  {
   "cell_type": "markdown",
   "metadata": {},
   "source": [
    "## Parallelizing Mandelbrot\n",
    "While the vectorized implementation above is efficient, we can get better performance by parallelizing on the cols. This again is simple in Mojo using the `parallelize` higher order function. Only the function that performs the invocation needs to change."
   ]
  },
  {
   "cell_type": "code",
   "execution_count": 15,
   "metadata": {},
   "outputs": [
    {
     "name": "stderr",
     "output_type": "stream",
     "text": [
      "error: \u001b[0;1;31m\u001b[1mExpression [15]:27:28: \u001b[0m\u001b[1muse of unknown declaration 'Benchmark'\n",
      "\u001b[0m        let parallelized = Benchmark().run[bench_parallel[simd_width]]() / 1e6\n",
      "\u001b[0;1;32m                           ^~~~~~~~~\n",
      "\u001b[0m\u001b[0m\n",
      "error: \u001b[0;1;31m\u001b[1mExpression [15]:33:40: \u001b[0m\u001b[1m'Error' value has no attribute 'value'\n",
      "\u001b[0m        print(\"failed to show plot:\", e.value)\n",
      "\u001b[0;1;32m                                      ~^~~~~~\n",
      "\u001b[0m\u001b[0m\n",
      "error: \u001b[0;1;31m\u001b[1mExpression [15]:24:32: \u001b[0m\u001b[1mno matching function in call to 'parallelize': \n",
      "\u001b[0m            parallelize[worker](rt, height, 5 * num_cores())\n",
      "\u001b[0;1;32m            ~~~~~~~~~~~~~~~~~~~^~~~~~~~~~~~~~~~~~~~~~~~~~~~~\n",
      "\u001b[0m\u001b[0m\n",
      "\u001b[0;1;30m\u001b[1mExpression [0]:1:1: \u001b[0m\u001b[1mcandidate not viable: callee expects 0 arguments, but 3 were specified\n",
      "\u001b[0mvar __lldb_repl_python__ = __mojo_repl_Python()\n",
      "\u001b[0;1;32m^\n",
      "\u001b[0m\u001b[0m\n",
      "\u001b[0;1;30m\u001b[1mExpression [0]:1:1: \u001b[0m\u001b[1mcandidate not viable: callee expects 1 argument, but 3 were specified\n",
      "\u001b[0mvar __lldb_repl_python__ = __mojo_repl_Python()\n",
      "\u001b[0;1;32m^\n",
      "\u001b[0m\u001b[0m\n",
      "\u001b[0;1;30m\u001b[1mExpression [0]:1:1: \u001b[0m\u001b[1mcandidate not viable: callee expects 2 arguments, but 3 were specified\n",
      "\u001b[0mvar __lldb_repl_python__ = __mojo_repl_Python()\n",
      "\u001b[0;1;32m^\n",
      "\u001b[0m\u001b[0m\n",
      "expression failed to parse (no further compiler diagnostics)"
     ]
    }
   ],
   "source": [
    "fn parallelized():\n",
    "    let t = Tensor[float_type](height, width)\n",
    "\n",
    "    @parameter\n",
    "    fn worker(row: Int):\n",
    "        let scale_x = (max_x - min_x) / width\n",
    "        let scale_y = (max_y - min_y) / height\n",
    "\n",
    "        @parameter\n",
    "        fn compute_vector[simd_width: Int](col: Int):\n",
    "            \"\"\"Each time we oeprate on a `simd_width` vector of pixels.\"\"\"\n",
    "            let cx = min_x + (col + iota[float_type, simd_width]()) * scale_x\n",
    "            let cy = min_y + row * scale_y\n",
    "            let c = ComplexSIMD[float_type, simd_width](cx, cy)\n",
    "            t.data().simd_store[simd_width](row * width + col, mandelbrot_kernel_SIMD[simd_width](c))\n",
    "\n",
    "        # Vectorize the call to compute_vector where call gets a chunk of pixels.\n",
    "        vectorize[simd_width, compute_vector](width)\n",
    "\n",
    "\n",
    "    with Runtime() as rt:\n",
    "        @parameter\n",
    "        fn bench_parallel[simd_width: Int]():\n",
    "            parallelize[worker](rt, height, 5 * num_cores())\n",
    "\n",
    "        alias simd_width = simdwidthof[DType.float64]()\n",
    "        let parallelized = Benchmark().run[bench_parallel[simd_width]]() / 1e6\n",
    "        print(\"Parallelized:\", parallelized, \"ms\")\n",
    "\n",
    "    try:\n",
    "        _ = show_plot(t)\n",
    "    except e:\n",
    "        print(\"failed to show plot:\", e.value)\n",
    "\n",
    "parallelized()"
   ]
  },
  {
   "cell_type": "markdown",
   "metadata": {},
   "source": [
    "## Benchmarking\n",
    "\n",
    "In this section we benchmark our sequential implementation against the parallel implementation. As you see, it is a significant speedup. To get more pronounced speedups, try adjusting MAX_ITERS (e.g. 1000 or 10000) and/or the image size to (e.g. to 4096x4096)."
   ]
  },
  {
   "cell_type": "code",
   "execution_count": 11,
   "metadata": {},
   "outputs": [],
   "source": [
    "fn compare():\n",
    "    let t = Tensor[float_type](height, width)\n",
    "\n",
    "    @parameter\n",
    "    fn worker(row: Int):\n",
    "        let scale_x = (max_x - min_x) / width\n",
    "        let scale_y = (max_y - min_y) / height\n",
    "\n",
    "        @parameter\n",
    "        fn compute_vector[simd_width: Int](col: Int):\n",
    "            \"\"\"Each time we oeprate on a `simd_width` vector of pixels.\"\"\"\n",
    "            let cx = min_x + (col + iota[float_type, simd_width]()) * scale_x\n",
    "            let cy = min_y + row * scale_y\n",
    "            let c = ComplexSIMD[float_type, simd_width](cx, cy)\n",
    "            t.data().simd_store[simd_width](row * width + col, mandelbrot_kernel_SIMD[simd_width](c))\n",
    "\n",
    "        # Vectorize the call to compute_vector where call gets a chunk of pixels.\n",
    "        vectorize[simd_width, compute_vector](width)\n",
    "\n",
    "\n",
    "    @parameter\n",
    "    fn bench[simd_width: Int]():\n",
    "        for row in range(height):\n",
    "            worker(row)\n",
    "\n",
    "    let vectorized = Benchmark().run[bench[simd_width]]() / 1e6\n",
    "    print(\"Number of hardware cores:\", num_cores())\n",
    "    print(\"Vectorized:\", vectorized, \"ms\")\n",
    "\n",
    "    # Parallelized\n",
    "    with Runtime() as rt:\n",
    "        @parameter\n",
    "        fn bench_parallel[simd_width: Int]():\n",
    "            parallelize[worker](rt, height, 5 * num_cores())\n",
    "\n",
    "        alias simd_width = simdwidthof[DType.float64]()\n",
    "        let parallelized = Benchmark().run[bench_parallel[simd_width]]() / 1e6\n",
    "        print(\"Parallelized:\", parallelized, \"ms\")\n",
    "        print(\"Parallel speedup:\", vectorized / parallelized)\n",
    "\n",
    "    _ = t # Make sure tensor isn't destroyed before benchmark is finished"
   ]
  },
  {
   "cell_type": "code",
   "execution_count": 16,
   "metadata": {},
   "outputs": [
    {
     "name": "stderr",
     "output_type": "stream",
     "text": [
      "error: \u001b[0;1;31m\u001b[1mExpression [16]:2:1: \u001b[0m\u001b[1muse of unknown declaration 'compare'\n",
      "\u001b[0mcompare()\n",
      "\u001b[0;1;32m^~~~~~~\n",
      "\u001b[0m\u001b[0m\n",
      "expression failed to parse (no further compiler diagnostics)"
     ]
    }
   ],
   "source": [
    "#| CHECK: speedup\n",
    "compare()"
   ]
  }
 ],
 "metadata": {
  "kernelspec": {
   "display_name": "Mojo",
   "language": "mojo",
   "name": "mojo-jupyter-kernel"
  },
  "language_info": {
   "codemirror_mode": {
    "name": "mojo"
   },
   "file_extension": ".mojo",
   "mimetype": "text/x-mojo",
   "name": "mojo"
  },
  "orig_nbformat": 4
 },
 "nbformat": 4,
 "nbformat_minor": 2
}
